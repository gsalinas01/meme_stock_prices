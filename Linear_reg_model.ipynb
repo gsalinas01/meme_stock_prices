{
 "cells": [
  {
   "cell_type": "code",
   "execution_count": 220,
   "metadata": {},
   "outputs": [],
   "source": [
    "#pymongo DB\n",
    "from pymongo import MongoClient\n",
    "import os\n",
    "import json\n",
    "\n",
    "#import pandas pyplot\n",
    "import pandas as pd\n",
    "from pathlib import Path\n",
    "import matplotlib.pyplot as plt\n",
    "#from sklearn.linear_model import LinearRegression\n",
    "from sklearn.model_selection import train_test_split\n",
    "from sklearn.preprocessing import StandardScaler\n",
    "from sklearn.linear_model import LinearRegression\n",
    "import numpy as np"
   ]
  },
  {
   "cell_type": "code",
   "execution_count": 221,
   "metadata": {},
   "outputs": [],
   "source": [
    "client = MongoClient(port=27017)\n",
    "client = MongoClient(\"mongodb://localhost:27017/\")\n",
    "mydb = client[\"MemeStock\"]"
   ]
  },
  {
   "cell_type": "code",
   "execution_count": 222,
   "metadata": {},
   "outputs": [],
   "source": [
    "def CreateDataframeFromMongoDB(database,collection):\n",
    "    mycollection = database[collection]\n",
    "    allrecord = mycollection.find()\n",
    "    df = pd.DataFrame(list(allrecord))\n",
    "    return(df)"
   ]
  },
  {
   "cell_type": "code",
   "execution_count": 223,
   "metadata": {},
   "outputs": [],
   "source": [
    "SPY_hourly_df = CreateDataframeFromMongoDB(mydb,\"table_spystock\")\n",
    "Tweet_TSLA_hourly_df = CreateDataframeFromMongoDB(mydb,\"table_TSLA\")\n",
    "TSLA_hourly_df = CreateDataframeFromMongoDB(mydb,\"table_tslastock\")"
   ]
  },
  {
   "cell_type": "code",
   "execution_count": 224,
   "metadata": {},
   "outputs": [],
   "source": [
    "# condense DFs to only columns that will be require \n",
    "TSLA_hourly_df=TSLA_hourly_df[[\"date_UTC\",\"Percent_Day_Change\",\"Volume\"]]\n",
    "Tweet_TSLA_hourly_df=Tweet_TSLA_hourly_df[[\"date_UTC\",\"tweet_counts\"]]\n",
    "SPY_hourly_df=SPY_hourly_df[[\"date_UTC\",\"Percent_Day_Change\",\"Volume\"]]"
   ]
  },
  {
   "cell_type": "code",
   "execution_count": 225,
   "metadata": {},
   "outputs": [],
   "source": [
    "#rename Columns\n",
    "TSLA_hourly_df= TSLA_hourly_df.rename(columns={'Percent_Day_Change': 'Percent_Day_Change_TSLA', 'Volume': 'Volume_TSLA'})\n",
    "SPY_hourly_df=SPY_hourly_df.rename(columns={'Percent_Day_Change': 'Percent_Day_Change_SPY', 'Volume': 'Volume_SPY'})\n",
    "#make all DFs match d type for date_UTC\n",
    "TSLA_hourly_df['date_UTC']=TSLA_hourly_df['date_UTC'].astype({'date_UTC': 'datetime64[ns]'})\n",
    "SPY_hourly_df['date_UTC']=SPY_hourly_df['date_UTC'].astype({'date_UTC': 'datetime64[ns]'})\n",
    "Tweet_TSLA_hourly_df['date_UTC']=Tweet_TSLA_hourly_df['date_UTC'].astype({'date_UTC': 'datetime64[ns]'})"
   ]
  },
  {
   "cell_type": "code",
   "execution_count": 226,
   "metadata": {},
   "outputs": [],
   "source": [
    "#create the 3 combine df to one DF, encoded our Y value\n",
    "combined_all_df=TSLA_hourly_df.merge(SPY_hourly_df, how='left', on=\"date_UTC\")\n",
    "combined_all_df=combined_all_df.merge(Tweet_TSLA_hourly_df, how='left', on=\"date_UTC\")\n",
    "combined_all_df=combined_all_df.dropna(axis=0, how='any')"
   ]
  },
  {
   "cell_type": "code",
   "execution_count": 227,
   "metadata": {},
   "outputs": [],
   "source": [
    "#create new DFs to for more analysis\n",
    "TSLA_Tweet_df=combined_all_df[[\"Percent_Day_Change_TSLA\",\"tweet_counts\"]]\n",
    "TSLA_SPY_df=combined_all_df[[\"Percent_Day_Change_TSLA\",\"Percent_Day_Change_SPY\"]]\n",
    "TSLA_Volume_df=combined_all_df[[\"Percent_Day_Change_TSLA\",\"Volume_TSLA\"]]\n",
    "#TSLA_Volume_df=combined_all_df[[\"Percent_Day_Change_TSLA\",\"Volume_TSLA\",\"tweet_counts\"]]"
   ]
  },
  {
   "cell_type": "code",
   "execution_count": 228,
   "metadata": {},
   "outputs": [],
   "source": [
    "combined_all_df.to_csv(\"resources/combined_all_df.csv\")\n",
    "#combined_all_df_encode.to_csv(\"resources/combined_all_df_encode.csv\")"
   ]
  },
  {
   "cell_type": "code",
   "execution_count": 229,
   "metadata": {},
   "outputs": [],
   "source": [
    "#creates a plot of a 1 attribute (x) DB \n",
    "def linear_reg_model_basic(df):\n",
    "    df_x=df.drop([\"Percent_Day_Change_TSLA\"], axis=1)\n",
    "    df_lenght=df_x.columns.size\n",
    "    X = df_x.values.reshape(-1,df_lenght)\n",
    "    y=df[\"Percent_Day_Change_TSLA\"]\n",
    "    model = LinearRegression()\n",
    "    model.fit(X, y)\n",
    "    y_pred = model.predict(X)\n",
    "    r2_score=model.score(X,y)\n",
    "    coef=model.coef_\n",
    "    ax = plt.subplot()\n",
    "    plt.scatter(X, y)\n",
    "    plt.plot(X, y_pred, color='red')\n",
    "    plt.xlabel(df_x.columns.tolist())\n",
    "    plt.ylabel(\"Percent_Change_TSLA\")\n",
    "    plt.text(1, 1, f'r2_score: {r2_score:.6f}\\n coef={coef}', horizontalalignment='right',\n",
    "         verticalalignment='top',transform= ax.transAxes)\n",
    "    plt.savefig(f'resources/{df_x.columns.tolist()[0]}_fig.png')\n",
    "    return plt.show()"
   ]
  },
  {
   "cell_type": "code",
   "execution_count": 241,
   "metadata": {},
   "outputs": [],
   "source": [
    "#creates a plot of a multi attributes(x) DB \n",
    "def linear_reg_model_multi(df):\n",
    "    df_x=df.drop([\"Percent_Day_Change_TSLA\",\"date_UTC\",\"date_UTC\"], axis=1)\n",
    "    df_lenght=df_x.columns.size\n",
    "    X = df_x.values.reshape(-1,df_lenght)\n",
    "    y=df[\"Percent_Day_Change_TSLA\"]\n",
    "    model = LinearRegression()\n",
    "    model.fit(X, y)\n",
    "    #r2_score=model.score(X,y)\n",
    "    coef=model.coef_\n",
    "    allcoef_df=pd.DataFrame(coef, index=df_x.columns.tolist(), columns=[\"Coefficient\"])\n",
    "    allcoef_df.to_csv(\"resources/allcoef.csv\")\n",
    "    \n",
    "    #upload to mangodb \n",
    "    data=allcoef_df.to_json(orient='records')\n",
    "    mytable = mydb[\"Linear_Reg_Coeff\"]\n",
    "    mytable = mytable.drop()\n",
    "    mytable = mydb[\"Linear_Reg_Coeff\"]\n",
    "    mytable.insert(data)\n",
    "    \n",
    "    return allcoef_df"
   ]
  },
  {
   "cell_type": "code",
   "execution_count": 242,
   "metadata": {},
   "outputs": [],
   "source": [
    "#creates a plot of a multi attributes(x) DB \n",
    "def linear_reg_model_multi_rscore(df):\n",
    "    df_x=df.drop([\"Percent_Day_Change_TSLA\",\"date_UTC\",\"date_UTC\"], axis=1)\n",
    "    df_lenght=df_x.columns.size\n",
    "    X = df_x.values.reshape(-1,df_lenght)\n",
    "    y=df[\"Percent_Day_Change_TSLA\"]\n",
    "    model = LinearRegression()\n",
    "    model.fit(X, y)\n",
    "    r2_score=model.score(X,y)\n",
    "    #coef=model.coef_\n",
    "    #allcoef_df=pd.DataFrame(coef, index=df_x.columns.tolist(), columns=[\"Coefficient\"])\n",
    "    r2_df=pd.Series(r2_score, index= [\"Rsquare_score\"], name= \"Rsquare_score\")\n",
    "    r2_df.to_csv('resources/r2_score.csv')\n",
    "    \n",
    "    #upload to mangodb \n",
    "    data=allcoef_df.to_dict(\"records\")\n",
    "    mytable = mydb[\"Linear_Reg_Coeff\"]\n",
    "    mytable = mytable.drop()\n",
    "    mytable = mydb[\"Linear_Reg_Coeff\"]\n",
    "    mytable.insert(data)\n",
    "    \n",
    "    return r2_df"
   ]
  },
  {
   "cell_type": "code",
   "execution_count": 205,
   "metadata": {},
   "outputs": [
    {
     "data": {
      "image/png": "[encoded data removed]",
      "text/plain": [
       "<Figure size 432x288 with 1 Axes>"
      ]
     },
     "metadata": {
      "needs_background": "light"
     },
     "output_type": "display_data"
    }
   ],
   "source": [
    "linear_reg_model_basic(TSLA_Tweet_df)"
   ]
  },
  {
   "cell_type": "code",
   "execution_count": 206,
   "metadata": {},
   "outputs": [
    {
     "data": {
      "image/png": "[encoded data removed]",
      "text/plain": [
       "<Figure size 432x288 with 1 Axes>"
      ]
     },
     "metadata": {
      "needs_background": "light"
     },
     "output_type": "display_data"
    }
   ],
   "source": [
    "linear_reg_model_basic(TSLA_SPY_df)"
   ]
  },
  {
   "cell_type": "code",
   "execution_count": 207,
   "metadata": {},
   "outputs": [
    {
     "data": {
      "image/png": "[encoded data removed]",
      "text/plain": [
       "<Figure size 432x288 with 1 Axes>"
      ]
     },
     "metadata": {
      "needs_background": "light"
     },
     "output_type": "display_data"
    }
   ],
   "source": [
    "linear_reg_model_basic(TSLA_Volume_df)"
   ]
  },
  {
   "cell_type": "code",
   "execution_count": 234,
   "metadata": {},
   "outputs": [
    {
     "data": {
      "text/html": [
       "<div>\n",
       "<style scoped>\n",
       "    .dataframe tbody tr th:only-of-type {\n",
       "        vertical-align: middle;\n",
       "    }\n",
       "\n",
       "    .dataframe tbody tr th {\n",
       "        vertical-align: top;\n",
       "    }\n",
       "\n",
       "    .dataframe thead th {\n",
       "        text-align: right;\n",
       "    }\n",
       "</style>\n",
       "<table border=\"1\" class=\"dataframe\">\n",
       "  <thead>\n",
       "    <tr style=\"text-align: right;\">\n",
       "      <th></th>\n",
       "      <th>Coefficient</th>\n",
       "    </tr>\n",
       "  </thead>\n",
       "  <tbody>\n",
       "    <tr>\n",
       "      <th>Volume_TSLA</th>\n",
       "      <td>1.451322e-08</td>\n",
       "    </tr>\n",
       "    <tr>\n",
       "      <th>Percent_Day_Change_SPY</th>\n",
       "      <td>3.709576e+00</td>\n",
       "    </tr>\n",
       "    <tr>\n",
       "      <th>Volume_SPY</th>\n",
       "      <td>5.407689e-09</td>\n",
       "    </tr>\n",
       "    <tr>\n",
       "      <th>tweet_counts</th>\n",
       "      <td>2.045426e-03</td>\n",
       "    </tr>\n",
       "  </tbody>\n",
       "</table>\n",
       "</div>"
      ],
      "text/plain": [
       "                         Coefficient\n",
       "Volume_TSLA             1.451322e-08\n",
       "Percent_Day_Change_SPY  3.709576e+00\n",
       "Volume_SPY              5.407689e-09\n",
       "tweet_counts            2.045426e-03"
      ]
     },
     "execution_count": 234,
     "metadata": {},
     "output_type": "execute_result"
    }
   ],
   "source": [
    "linear_reg_model_multi(combined_all_df)"
   ]
  },
  {
   "cell_type": "code",
   "execution_count": 219,
   "metadata": {},
   "outputs": [
    {
     "data": {
      "text/plain": [
       "Rsquare_score    0.197003\n",
       "Name: Rsquare_score, dtype: float64"
      ]
     },
     "execution_count": 219,
     "metadata": {},
     "output_type": "execute_result"
    }
   ],
   "source": [
    "linear_reg_model_multi_rscore(combined_all_df)"
   ]
  },
  {
   "cell_type": "code",
   "execution_count": null,
   "metadata": {},
   "outputs": [],
   "source": []
  }
 ],
 "metadata": {
  "kernelspec": {
   "display_name": "Python 3",
   "language": "python",
   "name": "python3"
  },
  "language_info": {
   "codemirror_mode": {
    "name": "ipython",
    "version": 3
   },
   "file_extension": ".py",
   "mimetype": "text/x-python",
   "name": "python",
   "nbconvert_exporter": "python",
   "pygments_lexer": "ipython3",
   "version": "3.8.5"
  }
 },
 "nbformat": 4,
 "nbformat_minor": 4
}
