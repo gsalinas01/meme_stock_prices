{
  "nbformat": 4,
  "nbformat_minor": 0,
  "metadata": {
    "colab": {
      "name": "memestockaws.ipynb",
      "provenance": [],
      "authorship_tag": "ABX9TyP5tNcvQnJQYm700bEKMLJN",
      "include_colab_link": true
    },
    "kernelspec": {
      "name": "python3",
      "display_name": "Python 3"
    },
    "language_info": {
      "name": "python"
    }
  },
  "cells": [
    {
      "cell_type": "markdown",
      "metadata": {
        "id": "view-in-github",
        "colab_type": "text"
      },
      "source": [
        "<a href=\"https://colab.research.google.com/github/gsalinas01/meme_stock_prices/blob/main/memestockaws.ipynb\" target=\"_parent\"><img src=\"https://colab.research.google.com/assets/colab-badge.svg\" alt=\"Open In Colab\"/></a>"
      ]
    },
    {
      "cell_type": "code",
      "metadata": {
        "colab": {
          "base_uri": "https://localhost:8080/"
        },
        "id": "c-Ycxr0mTSJZ",
        "outputId": "e7aceb4a-ea13-4561-f954-f0529cb2ad2b"
      },
      "source": [
        "import os\n",
        "# Find the latest version of spark 3.0  from http://www.apache.org/dist/spark/ and enter as the spark version\n",
        "# For example:\n",
        "# spark_version = 'spark-3.0.3'\n",
        "spark_version = 'spark-3.0.3'\n",
        "os.environ['SPARK_VERSION']=spark_version\n",
        "\n",
        "# Install Spark and Java\n",
        "!apt-get update\n",
        "!apt-get install openjdk-11-jdk-headless -qq > /dev/null\n",
        "!wget -q http://www.apache.org/dist/spark/$SPARK_VERSION/$SPARK_VERSION-bin-hadoop2.7.tgz\n",
        "!tar xf $SPARK_VERSION-bin-hadoop2.7.tgz\n",
        "!pip install -q findspark\n",
        "\n",
        "# Set Environment Variables\n",
        "import os\n",
        "os.environ[\"JAVA_HOME\"] = \"/usr/lib/jvm/java-11-openjdk-amd64\"\n",
        "os.environ[\"SPARK_HOME\"] = f\"/content/{spark_version}-bin-hadoop2.7\"\n",
        "\n",
        "# Start a SparkSession\n",
        "import findspark\n",
        "findspark.init()\n",
        "\n",
        "import pyspark"
      ],
      "execution_count": 66,
      "outputs": [
        {
          "output_type": "stream",
          "name": "stdout",
          "text": [
            "\r0% [Working]\r            \rGet:1 http://security.ubuntu.com/ubuntu bionic-security InRelease [88.7 kB]\n",
            "\r0% [Connecting to archive.ubuntu.com (91.189.88.142)] [1 InRelease 14.2 kB/88.7\r                                                                               \rHit:2 https://cloud.r-project.org/bin/linux/ubuntu bionic-cran40/ InRelease\n",
            "\r0% [Connecting to archive.ubuntu.com (91.189.88.142)] [1 InRelease 43.1 kB/88.7\r0% [2 InRelease gpgv 3,626 B] [Connecting to archive.ubuntu.com (91.189.88.142)\r0% [2 InRelease gpgv 3,626 B] [Connecting to archive.ubuntu.com (91.189.88.142)\r                                                                               \rIgn:3 https://developer.download.nvidia.com/compute/cuda/repos/ubuntu1804/x86_64  InRelease\n",
            "\r0% [2 InRelease gpgv 3,626 B] [Waiting for headers] [Waiting for headers] [Wait\r                                                                               \rHit:4 http://ppa.launchpad.net/c2d4u.team/c2d4u4.0+/ubuntu bionic InRelease\n",
            "\r                                                                               \r0% [2 InRelease gpgv 3,626 B] [Waiting for headers] [Waiting for headers]\r                                                                         \rHit:5 http://archive.ubuntu.com/ubuntu bionic InRelease\n",
            "\r0% [2 InRelease gpgv 3,626 B] [Waiting for headers] [Connecting to ppa.launchpa\r                                                                               \rIgn:6 https://developer.download.nvidia.com/compute/machine-learning/repos/ubuntu1804/x86_64  InRelease\n",
            "\r                                                                               \r0% [2 InRelease gpgv 3,626 B] [Waiting for headers] [Waiting for headers]\r                                                                         \rGet:7 http://archive.ubuntu.com/ubuntu bionic-updates InRelease [88.7 kB]\n",
            "\r0% [2 InRelease gpgv 3,626 B] [7 InRelease 14.2 kB/88.7 kB 16%] [Waiting for he\r                                                                               \rHit:8 https://developer.download.nvidia.com/compute/cuda/repos/ubuntu1804/x86_64  Release\n",
            "Hit:9 https://developer.download.nvidia.com/compute/machine-learning/repos/ubuntu1804/x86_64  Release\n",
            "Hit:10 http://ppa.launchpad.net/cran/libgit2/ubuntu bionic InRelease\n",
            "Hit:11 http://ppa.launchpad.net/deadsnakes/ppa/ubuntu bionic InRelease\n",
            "Get:12 http://archive.ubuntu.com/ubuntu bionic-backports InRelease [74.6 kB]\n",
            "Hit:13 http://ppa.launchpad.net/graphics-drivers/ppa/ubuntu bionic InRelease\n",
            "Fetched 252 kB in 2s (105 kB/s)\n",
            "Reading package lists... Done\n"
          ]
        }
      ]
    },
    {
      "cell_type": "markdown",
      "metadata": {
        "id": "0bqfs3vhe2K0"
      },
      "source": [
        "### Postgres driver"
      ]
    },
    {
      "cell_type": "code",
      "metadata": {
        "colab": {
          "base_uri": "https://localhost:8080/"
        },
        "id": "RugvxcsDTYne",
        "outputId": "e6a6fd19-9c74-4d58-cd20-e3310c36003c"
      },
      "source": [
        "!wget https://jdbc.postgresql.org/download/postgresql-42.2.16.jar"
      ],
      "execution_count": 67,
      "outputs": [
        {
          "output_type": "stream",
          "name": "stdout",
          "text": [
            "--2021-11-14 00:47:35--  https://jdbc.postgresql.org/download/postgresql-42.2.16.jar\n",
            "Resolving jdbc.postgresql.org (jdbc.postgresql.org)... 72.32.157.228, 2001:4800:3e1:1::228\n",
            "Connecting to jdbc.postgresql.org (jdbc.postgresql.org)|72.32.157.228|:443... connected.\n",
            "HTTP request sent, awaiting response... 200 OK\n",
            "Length: 1002883 (979K) [application/java-archive]\n",
            "Saving to: ‘postgresql-42.2.16.jar.6’\n",
            "\n",
            "postgresql-42.2.16. 100%[===================>] 979.38K  5.67MB/s    in 0.2s    \n",
            "\n",
            "2021-11-14 00:47:35 (5.67 MB/s) - ‘postgresql-42.2.16.jar.6’ saved [1002883/1002883]\n",
            "\n"
          ]
        }
      ]
    },
    {
      "cell_type": "code",
      "metadata": {
        "id": "7dFEIgHATdjJ"
      },
      "source": [
        "from pyspark.sql import SparkSession\n",
        "spark = SparkSession.builder.appName(\"memestockaws\").config(\"spark.driver.extraClassPath\",\"/content/postgresql-42.2.16.jar\").getOrCreate()"
      ],
      "execution_count": 68,
      "outputs": []
    },
    {
      "cell_type": "code",
      "metadata": {
        "id": "ASRRgJABuWUx"
      },
      "source": [
        "# RDS Database name: memestockdb\n",
        "# S3 Bucket name: memestockbucket\n",
        "# (RDS database has already been created)\n",
        "from pyspark import SparkFiles"
      ],
      "execution_count": 69,
      "outputs": []
    },
    {
      "cell_type": "markdown",
      "metadata": {
        "id": "Icw7exgwelF0"
      },
      "source": [
        "## Loading data from S3 bucket into Spark DataFrame"
      ]
    },
    {
      "cell_type": "code",
      "metadata": {
        "colab": {
          "base_uri": "https://localhost:8080/"
        },
        "id": "IjQAP5RBt1oc",
        "outputId": "82224eb6-6183-41f6-ce78-fff6e164e3a9"
      },
      "source": [
        "# Read in challenge data from S3 Buckets in AWS ________________________TSLA TWEETS 7 day - Hourly_______________________\n",
        "# TSLA tweets 7 day - Hourly\n",
        "\n",
        "url =\"https://memestockbucket.s3.amazonaws.com/TSLA_tweet_7days_prior_hist_2021_11_7_perhour.csv\"\n",
        "spark.sparkContext.addFile(url)\n",
        "tweets_7day_hourly = spark.read.csv(SparkFiles.get(\"TSLA_tweet_7days_prior_hist_2021_11_7_perhour.csv\"), sep=\",\", header=True, inferSchema=True)\n",
        "tweets_7day_hourly.show(truncate=False)"
      ],
      "execution_count": 71,
      "outputs": [
        {
          "output_type": "stream",
          "name": "stdout",
          "text": [
            "+---+----------+------------+-------------------+\n",
            "|_c0|Unnamed: 0|tweet_counts|date_UTC           |\n",
            "+---+----------+------------+-------------------+\n",
            "|0  |0         |22          |2021-10-31 18:00:00|\n",
            "|1  |1         |30          |2021-10-31 19:00:00|\n",
            "|2  |2         |16          |2021-10-31 20:00:00|\n",
            "|3  |3         |34          |2021-10-31 21:00:00|\n",
            "|4  |4         |93          |2021-10-31 22:00:00|\n",
            "|5  |5         |17          |2021-10-31 23:00:00|\n",
            "|6  |6         |18          |2021-10-31 00:00:00|\n",
            "|7  |7         |31          |2021-11-01 01:00:00|\n",
            "|8  |8         |49          |2021-11-01 02:00:00|\n",
            "|9  |9         |35          |2021-11-01 03:00:00|\n",
            "|10 |10        |46          |2021-11-01 04:00:00|\n",
            "|11 |11        |22          |2021-11-01 05:00:00|\n",
            "|12 |12        |9           |2021-11-01 06:00:00|\n",
            "|13 |13        |12          |2021-11-01 07:00:00|\n",
            "|14 |14        |27          |2021-11-01 08:00:00|\n",
            "|15 |15        |31          |2021-11-01 09:00:00|\n",
            "|16 |16        |52          |2021-11-01 10:00:00|\n",
            "|17 |17        |83          |2021-11-01 11:00:00|\n",
            "|18 |18        |92          |2021-11-01 12:00:00|\n",
            "|19 |19        |160         |2021-11-01 13:00:00|\n",
            "+---+----------+------------+-------------------+\n",
            "only showing top 20 rows\n",
            "\n"
          ]
        }
      ]
    },
    {
      "cell_type": "code",
      "metadata": {
        "colab": {
          "base_uri": "https://localhost:8080/"
        },
        "id": "YestxKp90z-H",
        "outputId": "d043bcf8-f3e9-4cb5-82b5-368d215d2c23"
      },
      "source": [
        "# Read in challenge data from S3 Buckets in AWS _____________________TSLA STOCK HISTORY 7 day - Hourly_______________________________\n",
        "# TSLA Stock History 7 day - Hourly\n",
        "url2 =\"https://memestockbucket.s3.amazonaws.com/TSLA_stock_hist_hourly_2021_11_7.csv\"\n",
        "spark.sparkContext.addFile(url2)\n",
        "tsla_stock_hourly = spark.read.csv(SparkFiles.get(\"TSLA_stock_hist_hourly_2021_11_7.csv\"), sep=\",\", header=True, inferSchema=True)\n",
        "tsla_stock_hourly.show(truncate=False)"
      ],
      "execution_count": 73,
      "outputs": [
        {
          "output_type": "stream",
          "name": "stdout",
          "text": [
            "+---+-------------------------+------------------+------------------+------------------+------------------+------------------+--------+---------------------+-------------------+\n",
            "|_c0|Unnamed: 0               |Open              |High              |Low               |Close             |Adj Close         |Volume  |Percent_Day_Change   |date_UTC           |\n",
            "+---+-------------------------+------------------+------------------+------------------+------------------+------------------+--------+---------------------+-------------------+\n",
            "|0  |2021-10-28 09:30:00-04:00|1068.3050537109377|1081.0            |1055.2099609375   |1060.3599853515623|1060.3599853515623|8788599 |-0.7437078324937674  |2021-10-28 14:00:00|\n",
            "|1  |2021-10-28 10:30:00-04:00|1060.1800537109377|1077.4649658203123|1058.8900146484377|1070.250732421875 |1070.250732421875 |4857422 |0.9499026769733244   |2021-10-28 15:00:00|\n",
            "|2  |2021-10-28 11:30:00-04:00|1070.83984375     |1079.68994140625  |1064.3499755859377|1076.3800048828123|1076.3800048828123|3591916 |0.5173659875608694   |2021-10-28 16:00:00|\n",
            "|3  |2021-10-28 12:30:00-04:00|1076.949951171875 |1079.64990234375  |1066.0            |1073.175048828125 |1073.175048828125 |3328912 |-0.35051789915050424 |2021-10-28 17:00:00|\n",
            "|4  |2021-10-28 13:30:00-04:00|1073.25           |1074.030029296875 |1067.5899658203123|1072.9100341796877|1072.9100341796877|1543551 |-0.031676293530169534|2021-10-28 18:00:00|\n",
            "|5  |2021-10-28 14:30:00-04:00|1072.7701416015623|1073.2498779296877|1066.1099853515623|1069.93505859375  |1069.93505859375  |1703906 |-0.26427683786760525 |2021-10-28 19:00:00|\n",
            "|6  |2021-10-28 15:30:00-04:00|1069.753173828125 |1077.760009765625 |1067.5            |1077.0899658203123|1077.0899658203123|1714894 |0.6858397031842989   |2021-10-28 20:00:00|\n",
            "|7  |2021-10-29 09:30:00-04:00|1080.0            |1100.0            |1073.2049560546877|1088.39013671875  |1088.39013671875  |9855755 |0.7768645109953676   |2021-10-29 14:00:00|\n",
            "|8  |2021-10-29 10:30:00-04:00|1088.75           |1094.8800048828123|1086.5999755859377|1091.3800048828123|1091.3800048828123|3616633 |0.24156187212973634  |2021-10-29 15:00:00|\n",
            "|9  |2021-10-29 11:30:00-04:00|1091.3599853515623|1098.0            |1088.5999755859377|1092.3599853515623|1092.3599853515623|2628858 |0.0916287946619132   |2021-10-29 16:00:00|\n",
            "|10 |2021-10-29 12:30:00-04:00|1092.2601318359377|1105.8599853515623|1090.97998046875  |1101.8199462890623|1101.8199462890623|3122589 |0.8752323896557668   |2021-10-29 17:00:00|\n",
            "|11 |2021-10-29 13:30:00-04:00|1101.9512939453123|1103.0            |1094.780029296875 |1096.7781982421877|1096.7781982421877|2491949 |-0.469448670875805   |2021-10-29 18:00:00|\n",
            "|12 |2021-10-29 14:30:00-04:00|1096.685302734375 |1102.0            |1093.0            |1100.5699462890623|1100.5699462890623|2452751 |0.3542167971980481   |2021-10-29 19:00:00|\n",
            "|13 |2021-10-29 15:30:00-04:00|1100.530029296875 |1115.2099609375   |1100.1199951171877|1114.1800537109377|1114.1800537109377|3788587 |1.2403136716572227   |2021-10-29 20:00:00|\n",
            "|14 |2021-11-01 09:30:00-04:00|1145.0            |1150.0            |1118.6600341796877|1135.364990234375 |1135.364990234375 |14824885|-0.8414855690502154  |2021-11-01 14:00:00|\n",
            "|15 |2021-11-01 10:30:00-04:00|1135.300048828125 |1162.36474609375  |1132.56005859375  |1161.3751220703125|1161.3751220703125|7175951 |2.2967561103430345   |2021-11-01 15:00:00|\n",
            "|16 |2021-11-01 11:30:00-04:00|1161.219970703125 |1175.75           |1154.240234375    |1170.02001953125  |1170.02001953125  |6567429 |0.7578278922292903   |2021-11-01 16:00:00|\n",
            "|17 |2021-11-01 12:30:00-04:00|1170.1690673828125|1193.489990234375 |1167.050048828125 |1172.4000244140625|1172.4000244140625|7126538 |0.19065253846093366  |2021-11-01 17:00:00|\n",
            "|18 |2021-11-01 13:30:00-04:00|1172.4000244140625|1178.97998046875  |1162.2099609375   |1167.06005859375  |1167.06005859375  |5269389 |-0.4554730219304859  |2021-11-01 18:00:00|\n",
            "|19 |2021-11-01 14:30:00-04:00|1166.969970703125 |1191.0            |1166.02001953125  |1191.0            |1191.0            |5371085 |2.0591814614043797   |2021-11-01 19:00:00|\n",
            "+---+-------------------------+------------------+------------------+------------------+------------------+------------------+--------+---------------------+-------------------+\n",
            "only showing top 20 rows\n",
            "\n"
          ]
        }
      ]
    },
    {
      "cell_type": "code",
      "metadata": {
        "colab": {
          "base_uri": "https://localhost:8080/"
        },
        "id": "4UgvkqvBc59z",
        "outputId": "bbb30fca-45ca-4ef0-df57-d6387f30963a"
      },
      "source": [
        "# Read in challenge data from S3 Buckets in AWS _____________________SPY History 7 day - Hourly_______________________________\n",
        "# SPY History 7 day - Hourly\n",
        "url34 =\"https://memestockbucket.s3.amazonaws.com/SPY_stock_hist_hourly_2021_11_7.csv\"\n",
        "spark.sparkContext.addFile(url34)\n",
        "SPY_7_day_hourly = spark.read.csv(SparkFiles.get(\"SPY_stock_hist_hourly_2021_11_7.csv\"), sep=\",\", header=True, inferSchema=True)\n",
        "SPY_7_day_hourly.show(truncate=False)"
      ],
      "execution_count": 74,
      "outputs": [
        {
          "output_type": "stream",
          "name": "stdout",
          "text": [
            "+---+-------------------------+------------------+------------------+------------------+------------------+------------------+--------+---------------------+-------------------+\n",
            "|_c0|Unnamed: 0               |Open              |High              |Low               |Close             |Adj Close         |Volume  |Percent_Day_Change   |date_UTC           |\n",
            "+---+-------------------------+------------------+------------------+------------------+------------------+------------------+--------+---------------------+-------------------+\n",
            "|0  |2021-10-28 09:30:00-04:00|455.8999938964844 |457.125           |455.68011474609375|457.05999755859375|457.05999755859375|9880982 |0.2544425702213804   |2021-10-28 14:00:00|\n",
            "|1  |2021-10-28 10:30:00-04:00|457.0700073242188 |457.97601318359375|457.0             |457.5199890136719 |457.5199890136719 |5874814 |0.09844918332913012  |2021-10-28 15:00:00|\n",
            "|2  |2021-10-28 11:30:00-04:00|457.5299987792969 |457.95001220703125|456.8599853515625 |457.2999877929688 |457.2999877929688 |4100046 |-0.05027232901488876 |2021-10-28 16:00:00|\n",
            "|3  |2021-10-28 12:30:00-04:00|457.30499267578125|457.42999267578125|456.5             |457.0499877929688 |457.0499877929688 |3684041 |-0.055762540732484656|2021-10-28 17:00:00|\n",
            "|4  |2021-10-28 13:30:00-04:00|457.05999755859375|457.8699951171875 |457.052490234375  |457.7799987792969 |457.7799987792969 |7065893 |0.15752881996873302  |2021-10-28 18:00:00|\n",
            "|5  |2021-10-28 14:30:00-04:00|457.7799987792969 |457.9100036621094 |457.0928955078125 |457.239990234375  |457.239990234375  |4430106 |-0.11796245933894944 |2021-10-28 19:00:00|\n",
            "|6  |2021-10-28 15:30:00-04:00|457.2300109863281 |458.3999938964844 |457.1000061035156 |458.260009765625  |458.260009765625  |9957417 |0.2252692855998273   |2021-10-28 20:00:00|\n",
            "|7  |2021-10-29 09:30:00-04:00|455.8699951171875 |457.6400146484375 |455.55999755859375|456.739990234375  |456.739990234375  |12038991|0.19084281187751184  |2021-10-29 14:00:00|\n",
            "|8  |2021-10-29 10:30:00-04:00|456.7699890136719 |458.2099914550781 |456.4800109863281 |458.05999755859375|458.05999755859375|7632336 |0.2824197245767879   |2021-10-29 15:00:00|\n",
            "|9  |2021-10-29 11:30:00-04:00|458.0499877929688 |459.1650085449219 |457.7900085449219 |459.1400146484375 |459.1400146484375 |7816773 |0.237971156973682    |2021-10-29 16:00:00|\n",
            "|10 |2021-10-29 12:30:00-04:00|459.1400146484375 |459.1499938964844 |458.6499938964844 |458.8500061035156 |458.8500061035156 |4431218 |-0.06316342197791869 |2021-10-29 17:00:00|\n",
            "|11 |2021-10-29 13:30:00-04:00|458.8599853515625 |458.8900146484375 |457.8200073242188 |457.8299865722656 |457.8299865722656 |4966186 |-0.22446907818900466 |2021-10-29 18:00:00|\n",
            "|12 |2021-10-29 14:30:00-04:00|457.8299865722656 |458.3599853515625 |457.5799865722656 |457.9049987792969 |457.9049987792969 |8509170 |0.016384293128735017 |2021-10-29 19:00:00|\n",
            "|13 |2021-10-29 15:30:00-04:00|457.8999938964844 |459.55999755859375|457.7900085449219 |459.2200012207031 |459.2200012207031 |15568733|0.2882741519575571   |2021-10-29 20:00:00|\n",
            "|14 |2021-11-01 09:30:00-04:00|460.17999267578125|460.70208740234375|458.2099914550781 |459.0400085449219 |459.0400085449219 |13992445|-0.24772570494226984 |2021-11-01 14:00:00|\n",
            "|15 |2021-11-01 10:30:00-04:00|459.0299987792969 |459.4400024414063 |458.260009765625  |459.2300109863281 |459.2300109863281 |5841979 |0.043572796454083296 |2021-11-01 15:00:00|\n",
            "|16 |2021-11-01 11:30:00-04:00|459.2300109863281 |459.7300109863281 |459.010009765625  |459.6749877929688 |459.6749877929688 |3451053 |0.09689628203628507  |2021-11-01 16:00:00|\n",
            "|17 |2021-11-01 12:30:00-04:00|459.67999267578125|460.0199890136719 |459.1000061035156 |459.25            |459.25            |3957074 |-0.09354174265411297 |2021-11-01 17:00:00|\n",
            "|18 |2021-11-01 13:30:00-04:00|459.260009765625  |459.3900146484375 |458.2200012207031 |458.6300048828125 |458.6300048828125 |3724726 |-0.13717825837569195 |2021-11-01 18:00:00|\n",
            "|19 |2021-11-01 14:30:00-04:00|458.6099853515625 |459.5400085449219 |458.6099853515625 |459.3900146484375 |459.3900146484375 |3669787 |0.1700855458428352   |2021-11-01 19:00:00|\n",
            "+---+-------------------------+------------------+------------------+------------------+------------------+------------------+--------+---------------------+-------------------+\n",
            "only showing top 20 rows\n",
            "\n"
          ]
        }
      ]
    }
  ]
}