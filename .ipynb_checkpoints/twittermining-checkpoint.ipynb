{
 "cells": [
  {
   "cell_type": "code",
   "execution_count": 1,
   "metadata": {},
   "outputs": [
    {
     "name": "stdout",
     "output_type": "stream",
     "text": [
      "Collecting git+https://github.com/tweepy/tweepy.git\n",
      "Note: you may need to restart the kernel to use updated packages.  Cloning https://github.com/tweepy/tweepy.git to c:\\users\\rdsm1\\appdata\\local\\temp\\pip-req-build-bxp3wrcn\n",
      "Requirement already satisfied: requests<3,>=2.11.1 in c:\\users\\rdsm1\\anaconda3\\lib\\site-packages (from tweepy==4.3.0) (2.24.0)\n",
      "Requirement already satisfied: requests_oauthlib<2,>=1.0.0 in c:\\users\\rdsm1\\anaconda3\\lib\\site-packages (from tweepy==4.3.0) (1.3.0)\n",
      "Requirement already satisfied: certifi>=2017.4.17 in c:\\users\\rdsm1\\anaconda3\\lib\\site-packages (from requests<3,>=2.11.1->tweepy==4.3.0) (2020.6.20)\n",
      "Requirement already satisfied: idna<3,>=2.5 in c:\\users\\rdsm1\\anaconda3\\lib\\site-packages (from requests<3,>=2.11.1->tweepy==4.3.0) (2.10)\n",
      "Requirement already satisfied: chardet<4,>=3.0.2 in c:\\users\\rdsm1\\anaconda3\\lib\\site-packages (from requests<3,>=2.11.1->tweepy==4.3.0) (3.0.4)\n",
      "Requirement already satisfied: urllib3!=1.25.0,!=1.25.1,<1.26,>=1.21.1 in c:\\users\\rdsm1\\anaconda3\\lib\\site-packages (from requests<3,>=2.11.1->tweepy==4.3.0) (1.25.11)\n",
      "Requirement already satisfied: oauthlib>=3.0.0 in c:\\users\\rdsm1\\anaconda3\\lib\\site-packages (from requests_oauthlib<2,>=1.0.0->tweepy==4.3.0) (3.1.1)\n",
      "\n",
      "Building wheels for collected packages: tweepy\n",
      "  Building wheel for tweepy (setup.py): started\n",
      "  Building wheel for tweepy (setup.py): finished with status 'done'\n",
      "  Created wheel for tweepy: filename=tweepy-4.3.0-py2.py3-none-any.whl size=64312 sha256=dc126146f196f91accc4dad1b4d9b0ccdd2b37e71b83499b3439066c19f2726f\n",
      "  Stored in directory: C:\\Users\\rdsm1\\AppData\\Local\\Temp\\pip-ephem-wheel-cache-q1z5px_z\\wheels\\ad\\05\\51\\a78f66d15b87f9c623d2f3afc4401660ac4219e526c787fb8b\n",
      "Successfully built tweepy\n",
      "Installing collected packages: tweepy\n",
      "Successfully installed tweepy-4.3.0\n"
     ]
    }
   ],
   "source": [
    "pip install git+https://github.com/tweepy/tweepy.git"
   ]
  },
  {
   "cell_type": "code",
   "execution_count": 2,
   "metadata": {},
   "outputs": [],
   "source": [
    "import tweepy\n",
    "import pandas as pd"
   ]
  },
  {
   "cell_type": "code",
   "execution_count": 4,
   "metadata": {},
   "outputs": [],
   "source": [
    "#run the keys file that has all your keys and tokens\n",
    "%run ./keys.ipynb"
   ]
  },
  {
   "cell_type": "code",
   "execution_count": 5,
   "metadata": {},
   "outputs": [],
   "source": [
    "auth = tweepy.OAuthHandler(consumer_key, consumer_secret)\n",
    "auth.set_access_token(access_token,access_token_secret)\n",
    "api = tweepy.API(auth)"
   ]
  },
  {
   "cell_type": "code",
   "execution_count": 10,
   "metadata": {},
   "outputs": [],
   "source": [
    "# Practice pull of user tweet ___________________________\n",
    "cursor = tweepy.Cursor(api.user_timeline, id=\"elonmusk\",tweet_mode=\"extended\").items(1)"
   ]
  },
  {
   "cell_type": "code",
   "execution_count": 7,
   "metadata": {},
   "outputs": [
    {
     "name": "stderr",
     "output_type": "stream",
     "text": [
      "Unexpected parameter: id\n"
     ]
    },
    {
     "name": "stdout",
     "output_type": "stream",
     "text": [
      "@RealSkyWatcher @thesheetztweetz 🤣🤣\n"
     ]
    }
   ],
   "source": [
    "# Need to iterate over cursor to retrieve specific data (JSON format - only specified item)\n",
    "for i in cursor:\n",
    "    print(i.full_text)"
   ]
  },
  {
   "cell_type": "code",
   "execution_count": 29,
   "metadata": {},
   "outputs": [],
   "source": [
    "# Practice pull of keywords _____________________________ .items(1) = 1 tweet\n",
    "cursor = tweepy.Cursor(api.search_tweets, q=\"Tesla\",tweet_mode=\"extended\").items(1)"
   ]
  },
  {
   "cell_type": "code",
   "execution_count": 30,
   "metadata": {},
   "outputs": [
    {
     "name": "stdout",
     "output_type": "stream",
     "text": [
      "@RiquinhodaFL Rico, e a tesla?\n"
     ]
    }
   ],
   "source": [
    "for i in cursor:\n",
    "    print(i.full_text)"
   ]
  },
  {
   "cell_type": "code",
   "execution_count": null,
   "metadata": {},
   "outputs": [],
   "source": [
    "# Practice pull of keywords with datetime specified\n"
   ]
  }
 ],
 "metadata": {
  "kernelspec": {
   "display_name": "Python 3",
   "language": "python",
   "name": "python3"
  },
  "language_info": {
   "codemirror_mode": {
    "name": "ipython",
    "version": 3
   },
   "file_extension": ".py",
   "mimetype": "text/x-python",
   "name": "python",
   "nbconvert_exporter": "python",
   "pygments_lexer": "ipython3",
   "version": "3.8.5"
  }
 },
 "nbformat": 4,
 "nbformat_minor": 5
}
