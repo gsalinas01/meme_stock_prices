{
 "cells": [
  {
   "cell_type": "code",
   "execution_count": null,
   "metadata": {},
   "outputs": [],
   "source": [
    "import pandas as pd\n",
    "from pathlib import Path\n",
    "import matplotlib.pyplot as plt\n",
    "#from sklearn.linear_model import LinearRegression\n",
    "from sklearn.linear_model import LogisticRegression\n",
    "from sklearn.model_selection import train_test_split\n",
    "from sklearn.preprocessing import StandardScaler\n",
    "from sklearn.metrics import classification_report"
   ]
  },
  {
   "cell_type": "code",
   "execution_count": null,
   "metadata": {},
   "outputs": [],
   "source": [
    "SPY_hourly_df= pd.read_csv(Path('resources/SPY_stock_hist_hourly_2021_11_7.csv'))\n",
    "Tweet_TSLA_hourly_df = pd.read_csv(Path('resources/#TSLA_tweet_7days_prior_hist_2021_11_7_perhour.csv'))\n",
    "TSLA_hourly_df = pd.read_csv(Path('resources/TSLA_stock_hist_hourly_2021_11_7.csv'))"
   ]
  },
  {
   "cell_type": "code",
   "execution_count": null,
   "metadata": {},
   "outputs": [],
   "source": [
    "# condense DFs to only columns that will be require \n",
    "TSLA_hourly_df=TSLA_hourly_df[[\"date_UTC\",\"Percent_Day_Change\",\"Volume\"]]\n",
    "Tweet_TSLA_hourly_df=Tweet_TSLA_hourly_df[[\"date_UTC\",\"tweet_counts\"]]\n",
    "SPY_hourly_df=SPY_hourly_df[[\"date_UTC\",\"Percent_Day_Change\",\"Volume\"]]"
   ]
  },
  {
   "cell_type": "code",
   "execution_count": null,
   "metadata": {},
   "outputs": [],
   "source": [
    "#rename Columns\n",
    "TSLA_hourly_df= TSLA_hourly_df.rename(columns={'Percent_Day_Change': 'Percent_Day_Change_TSLA', 'Volume': 'Volume_TSLA'})\n",
    "SPY_hourly_df=SPY_hourly_df.rename(columns={'Percent_Day_Change': 'Percent_Day_Change_SPY', 'Volume': 'Volume_SPY'})\n",
    "#make all DFs match d type for date_UTC\n",
    "TSLA_hourly_df['date_UTC']=TSLA_hourly_df['date_UTC'].astype({'date_UTC': 'datetime64[ns]'})\n",
    "SPY_hourly_df['date_UTC']=SPY_hourly_df['date_UTC'].astype({'date_UTC': 'datetime64[ns]'})\n",
    "Tweet_TSLA_hourly_df['date_UTC']=Tweet_TSLA_hourly_df['date_UTC'].astype({'date_UTC': 'datetime64[ns]'})"
   ]
  },
  {
   "cell_type": "code",
   "execution_count": null,
   "metadata": {},
   "outputs": [],
   "source": [
    "#create the 3 combine df to one DF, encoded our Y value\n",
    "combined_all_df=TSLA_hourly_df.merge(SPY_hourly_df, how='left', on=\"date_UTC\")\n",
    "combined_all_df=combined_all_df.merge(Tweet_TSLA_hourly_df, how='left', on=\"date_UTC\")\n",
    "combined_all_df=combined_all_df.dropna(axis=0, how='any')\n",
    "combined_all_df[\"Percent_Day_Change_TSLA_encode\"]=combined_all_df[\"Percent_Day_Change_TSLA\"].apply(lambda row: 1 if row>0 else 0)\n",
    "combined_all_df_encode=combined_all_df.drop([\"Percent_Day_Change_TSLA\"], axis = 1)\n",
    "combined_all_df_encode=combined_all_df_encode.drop([\"date_UTC\"], axis = 1)"
   ]
  },
  {
   "cell_type": "code",
   "execution_count": 6,
   "metadata": {},
   "outputs": [],
   "source": [
    "#create 2 new DFs to for more analysis\n",
    "combined_TSLA_SPY_encode=combined_all_df_encode.drop([\"tweet_counts\"], axis = 1)\n",
    "combined_TSLA_tweets_encode=combined_all_df_encode.drop(['Volume_SPY','Percent_Day_Change_SPY',\"Volume_TSLA\"], axis = 1)"
   ]
  },
  {
   "cell_type": "code",
   "execution_count": 7,
   "metadata": {},
   "outputs": [],
   "source": [
    "combined_all_df.to_csv(\"resources/combined_all_df.csv\")\n",
    "combined_all_df_encode.to_csv(\"resources/combined_all_df_encode.csv\")"
   ]
  },
  {
   "cell_type": "code",
   "execution_count": 8,
   "metadata": {},
   "outputs": [],
   "source": [
    "#All data is in float, it can now be scaled\n",
    "def logistical_model_report(dfencoded):\n",
    "    data_scaler = StandardScaler()\n",
    "    df = data_scaler.fit_transform(dfencoded)\n",
    "\n",
    "    y = dfencoded[\"Percent_Day_Change_TSLA_encode\"]\n",
    "    X = dfencoded.drop(columns=\"Percent_Day_Change_TSLA_encode\")\n",
    "\n",
    "\n",
    "    #split data into train\n",
    "    X_train, X_test, y_train, y_test = train_test_split(X, y, random_state=42)\n",
    "\n",
    "    #create logistical reg. model\n",
    "    classifier = LogisticRegression(solver='lbfgs', random_state=1)\n",
    "\n",
    "    # Train the data\n",
    "    classifier.fit(X_train, y_train)\n",
    "    y_pred = classifier.predict(X_test)\n",
    "    #results = pd.DataFrame({\"Prediction\": y_pred, \"Actual\": y_test}).reset_index(drop=True)\n",
    "    #matrix = confusion_matrix(y_test, y_pred)\n",
    "    report = classification_report(y_test, y_pred)\n",
    "    return report"
   ]
  },
  {
   "cell_type": "code",
   "execution_count": 9,
   "metadata": {},
   "outputs": [],
   "source": [
    "#All data is in float, it can now be scaled\n",
    "def logistical_model_results(dfencoded):\n",
    "    data_scaler = StandardScaler()\n",
    "    df = data_scaler.fit_transform(dfencoded)\n",
    "\n",
    "    y = dfencoded[\"Percent_Day_Change_TSLA_encode\"]\n",
    "    X = dfencoded.drop(columns=\"Percent_Day_Change_TSLA_encode\")\n",
    "\n",
    "\n",
    "    #split data into train\n",
    "    X_train, X_test, y_train, y_test = train_test_split(X, y, random_state=42)\n",
    "\n",
    "    #create logistical reg. model\n",
    "    classifier = LogisticRegression(solver='lbfgs', random_state=1)\n",
    "\n",
    "    # Train the data\n",
    "    classifier.fit(X_train, y_train)\n",
    "    y_pred = classifier.predict(X_test)\n",
    "    results = pd.DataFrame({\"Prediction\": y_pred, \"Actual\": y_test}).reset_index(drop=True)\n",
    "    #matrix = confusion_matrix(y_test, y_pred)\n",
    "    #report = classification_report(y_test, y_pred)\n",
    "    return results"
   ]
  },
  {
   "cell_type": "code",
   "execution_count": null,
   "metadata": {},
   "outputs": [],
   "source": []
  },
  {
   "cell_type": "code",
   "execution_count": 10,
   "metadata": {},
   "outputs": [],
   "source": [
    "combined_all_log_mod_results=logistical_model_results(combined_all_df_encode)\n",
    "combined_TSL_SPY_log_mod_results=logistical_model_results(combined_TSLA_SPY_encode)\n",
    "combined_tweet_log_mod_results=logistical_model_results(combined_TSLA_tweets_encode)"
   ]
  },
  {
   "cell_type": "code",
   "execution_count": 11,
   "metadata": {},
   "outputs": [
    {
     "name": "stderr",
     "output_type": "stream",
     "text": [
      "C:\\Users\\rdsm1\\Anaconda3\\lib\\site-packages\\sklearn\\metrics\\_classification.py:1221: UndefinedMetricWarning: Precision and F-score are ill-defined and being set to 0.0 in labels with no predicted samples. Use `zero_division` parameter to control this behavior.\n",
      "  _warn_prf(average, modifier, msg_start, len(result))\n",
      "C:\\Users\\rdsm1\\Anaconda3\\lib\\site-packages\\sklearn\\metrics\\_classification.py:1221: UndefinedMetricWarning: Precision and F-score are ill-defined and being set to 0.0 in labels with no predicted samples. Use `zero_division` parameter to control this behavior.\n",
      "  _warn_prf(average, modifier, msg_start, len(result))\n",
      "C:\\Users\\rdsm1\\Anaconda3\\lib\\site-packages\\sklearn\\metrics\\_classification.py:1221: UndefinedMetricWarning: Precision and F-score are ill-defined and being set to 0.0 in labels with no predicted samples. Use `zero_division` parameter to control this behavior.\n",
      "  _warn_prf(average, modifier, msg_start, len(result))\n"
     ]
    }
   ],
   "source": [
    "combined_all_log_mod_report=logistical_model_report(combined_all_df_encode)\n",
    "combined_TSL_SPY_log_mod_report=logistical_model_report(combined_TSLA_SPY_encode)\n",
    "combined_tweet_log_mod_report=logistical_model_report(combined_TSLA_tweets_encode)"
   ]
  },
  {
   "cell_type": "code",
   "execution_count": 12,
   "metadata": {},
   "outputs": [
    {
     "data": {
      "text/html": [
       "<div>\n",
       "<style scoped>\n",
       "    .dataframe tbody tr th:only-of-type {\n",
       "        vertical-align: middle;\n",
       "    }\n",
       "\n",
       "    .dataframe tbody tr th {\n",
       "        vertical-align: top;\n",
       "    }\n",
       "\n",
       "    .dataframe thead th {\n",
       "        text-align: right;\n",
       "    }\n",
       "</style>\n",
       "<table border=\"1\" class=\"dataframe\">\n",
       "  <thead>\n",
       "    <tr style=\"text-align: right;\">\n",
       "      <th></th>\n",
       "      <th>Prediction</th>\n",
       "      <th>Actual</th>\n",
       "    </tr>\n",
       "  </thead>\n",
       "  <tbody>\n",
       "    <tr>\n",
       "      <th>0</th>\n",
       "      <td>0</td>\n",
       "      <td>1</td>\n",
       "    </tr>\n",
       "    <tr>\n",
       "      <th>1</th>\n",
       "      <td>0</td>\n",
       "      <td>1</td>\n",
       "    </tr>\n",
       "    <tr>\n",
       "      <th>2</th>\n",
       "      <td>0</td>\n",
       "      <td>0</td>\n",
       "    </tr>\n",
       "    <tr>\n",
       "      <th>3</th>\n",
       "      <td>0</td>\n",
       "      <td>0</td>\n",
       "    </tr>\n",
       "    <tr>\n",
       "      <th>4</th>\n",
       "      <td>0</td>\n",
       "      <td>0</td>\n",
       "    </tr>\n",
       "    <tr>\n",
       "      <th>5</th>\n",
       "      <td>0</td>\n",
       "      <td>1</td>\n",
       "    </tr>\n",
       "    <tr>\n",
       "      <th>6</th>\n",
       "      <td>0</td>\n",
       "      <td>0</td>\n",
       "    </tr>\n",
       "    <tr>\n",
       "      <th>7</th>\n",
       "      <td>0</td>\n",
       "      <td>0</td>\n",
       "    </tr>\n",
       "    <tr>\n",
       "      <th>8</th>\n",
       "      <td>0</td>\n",
       "      <td>1</td>\n",
       "    </tr>\n",
       "    <tr>\n",
       "      <th>9</th>\n",
       "      <td>0</td>\n",
       "      <td>0</td>\n",
       "    </tr>\n",
       "    <tr>\n",
       "      <th>10</th>\n",
       "      <td>0</td>\n",
       "      <td>0</td>\n",
       "    </tr>\n",
       "    <tr>\n",
       "      <th>11</th>\n",
       "      <td>0</td>\n",
       "      <td>1</td>\n",
       "    </tr>\n",
       "    <tr>\n",
       "      <th>12</th>\n",
       "      <td>0</td>\n",
       "      <td>0</td>\n",
       "    </tr>\n",
       "    <tr>\n",
       "      <th>13</th>\n",
       "      <td>0</td>\n",
       "      <td>1</td>\n",
       "    </tr>\n",
       "    <tr>\n",
       "      <th>14</th>\n",
       "      <td>0</td>\n",
       "      <td>1</td>\n",
       "    </tr>\n",
       "    <tr>\n",
       "      <th>15</th>\n",
       "      <td>0</td>\n",
       "      <td>0</td>\n",
       "    </tr>\n",
       "  </tbody>\n",
       "</table>\n",
       "</div>"
      ],
      "text/plain": [
       "    Prediction  Actual\n",
       "0            0       1\n",
       "1            0       1\n",
       "2            0       0\n",
       "3            0       0\n",
       "4            0       0\n",
       "5            0       1\n",
       "6            0       0\n",
       "7            0       0\n",
       "8            0       1\n",
       "9            0       0\n",
       "10           0       0\n",
       "11           0       1\n",
       "12           0       0\n",
       "13           0       1\n",
       "14           0       1\n",
       "15           0       0"
      ]
     },
     "execution_count": 12,
     "metadata": {},
     "output_type": "execute_result"
    }
   ],
   "source": [
    "combined_all_log_mod_results"
   ]
  },
  {
   "cell_type": "code",
   "execution_count": 13,
   "metadata": {},
   "outputs": [
    {
     "name": "stdout",
     "output_type": "stream",
     "text": [
      "              precision    recall  f1-score   support\n",
      "\n",
      "           0       0.56      1.00      0.72         9\n",
      "           1       0.00      0.00      0.00         7\n",
      "\n",
      "    accuracy                           0.56        16\n",
      "   macro avg       0.28      0.50      0.36        16\n",
      "weighted avg       0.32      0.56      0.40        16\n",
      "\n"
     ]
    }
   ],
   "source": [
    "print(combined_all_log_mod_report)"
   ]
  },
  {
   "cell_type": "code",
   "execution_count": 14,
   "metadata": {},
   "outputs": [
    {
     "name": "stdout",
     "output_type": "stream",
     "text": [
      "              precision    recall  f1-score   support\n",
      "\n",
      "           0       0.56      1.00      0.72         9\n",
      "           1       0.00      0.00      0.00         7\n",
      "\n",
      "    accuracy                           0.56        16\n",
      "   macro avg       0.28      0.50      0.36        16\n",
      "weighted avg       0.32      0.56      0.40        16\n",
      "\n"
     ]
    }
   ],
   "source": [
    "print(combined_TSL_SPY_log_mod_report)"
   ]
  },
  {
   "cell_type": "code",
   "execution_count": 15,
   "metadata": {},
   "outputs": [
    {
     "name": "stdout",
     "output_type": "stream",
     "text": [
      "              precision    recall  f1-score   support\n",
      "\n",
      "           0       0.56      1.00      0.72         9\n",
      "           1       0.00      0.00      0.00         7\n",
      "\n",
      "    accuracy                           0.56        16\n",
      "   macro avg       0.28      0.50      0.36        16\n",
      "weighted avg       0.32      0.56      0.40        16\n",
      "\n"
     ]
    }
   ],
   "source": [
    "print(combined_tweet_log_mod_report)"
   ]
  },
  {
   "cell_type": "code",
   "execution_count": 23,
   "metadata": {},
   "outputs": [],
   "source": [
    "import plotly.express as px\n",
    "import hvplot.pandas\n",
    "#install conda install -c conda-forge firefox geckodriver\n",
    "# Create a various scatterplots to seee any genral trends \n",
    "combined_TSLA_tweets_plot_encode=combined_TSLA_tweets_encode.hvplot.scatter(x=\"tweet_counts\", y=\"Percent_Day_Change_TSLA_encode\")\n",
    "TSLA_Volume_Plot=combined_all_df.hvplot.scatter(x=\"Percent_Day_Change_TSLA\", y=\"Volume_TSLA\", by=\"Percent_Day_Change_TSLA_encode\")\n",
    "Tweet_TSLA_Plot=combined_all_df.hvplot.scatter(x=\"tweet_counts\", y=\"Percent_Day_Change_TSLA\")"
   ]
  },
  {
   "cell_type": "code",
   "execution_count": 24,
   "metadata": {},
   "outputs": [],
   "source": [
    "hvplot.save(combined_TSLA_tweets_plot_encode, 'resources/combined_TSLA_tweets_plot_encode.png')\n",
    "hvplot.save(TSLA_Volume_Plot, 'resources/TSLA_Volume_Plot.png')\n",
    "hvplot.save(Tweet_TSLA_Plot, 'resources/Tweet_TSLA_Plot.png')"
   ]
  },
  {
   "cell_type": "code",
   "execution_count": null,
   "metadata": {},
   "outputs": [],
   "source": []
  }
 ],
 "metadata": {
  "kernelspec": {
   "display_name": "Python 3",
   "language": "python",
   "name": "python3"
  },
  "language_info": {
   "codemirror_mode": {
    "name": "ipython",
    "version": 3
   },
   "file_extension": ".py",
   "mimetype": "text/x-python",
   "name": "python",
   "nbconvert_exporter": "python",
   "pygments_lexer": "ipython3",
   "version": "3.8.5"
  }
 },
 "nbformat": 4,
 "nbformat_minor": 4
}
