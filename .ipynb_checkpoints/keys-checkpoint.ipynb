{
 "cells": [
  {
   "cell_type": "code",
   "execution_count": 2,
   "metadata": {},
   "outputs": [],
   "source": [
    "### thi is for tweeter\n",
    "ACCESS_TOKEN=\"1453180544087375875-e0KnB4F3ha8f7W6oBSP39ZnrKeCvaA\"\n",
    "ACCESS_TOKEN_SECRET=\"8DWdWwUYD0ADFu4Qd428sdWcCIipdtDJtCY2ab4GKwQy6\"\n",
    "\n",
    "bearer_token_=\"AAAAAAAAAAAAAAAAAAAAAD7iVQEAAAAAoKnEYCc0ya1sUIN5BLbcfYN1jWU%3D9Q7FqWmZDIUb17Ba0NKsq8j4jrVqUR6SIcDsdek2pXDOFG04NJ\"\n",
    "CONSUMER_KEY=\"nU4eEPqwblMQQM9r7vEnlP0oR\"\n",
    "CONSUMER_SECRET=\"M18EwDMKaAvvzRHJNtkxAxbxcuLRBMSOv7qG6ylaKYsAAYePaw\"\n",
    "\n",
    "\n",
    "### this is for reddit \n",
    "client_id_=\"poWaQv04M0o83zmbhuezug\"\n",
    "client_secret_=\"kBZddeeilqFn8Qw12SBu6icNANvXCA\"\n",
    "user_agent_=\"script by u/Remarkable-Ad-3297\"\n",
    "redirect_uri_=\"http://localhost:8080\"\n",
    "refresh_token_=\"750822450965-OvOXOb63d4WKwEi43UJzGhlTP9x3Vw\""
   ]
  },
  {
   "cell_type": "code",
   "execution_count": null,
   "metadata": {},
   "outputs": [],
   "source": []
  }
 ],
 "metadata": {
  "kernelspec": {
   "display_name": "Python 3",
   "language": "python",
   "name": "python3"
  },
  "language_info": {
   "codemirror_mode": {
    "name": "ipython",
    "version": 3
   },
   "file_extension": ".py",
   "mimetype": "text/x-python",
   "name": "python",
   "nbconvert_exporter": "python",
   "pygments_lexer": "ipython3",
   "version": "3.8.5"
  }
 },
 "nbformat": 4,
 "nbformat_minor": 4
}
