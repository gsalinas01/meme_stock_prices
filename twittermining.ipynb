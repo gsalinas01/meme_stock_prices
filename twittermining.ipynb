{
 "cells": [
  {
   "cell_type": "code",
   "execution_count": 1,
   "id": "b2ea6993",
   "metadata": {},
   "outputs": [
    {
     "name": "stdout",
     "output_type": "stream",
     "text": [
      "Collecting git+https://github.com/tweepy/tweepy.git\n",
      "  Cloning https://github.com/tweepy/tweepy.git to /private/var/folders/l0/t287xkbn4rx1nmtt791sqm280000gn/T/pip-req-build-39hxc7_q\n",
      "  Running command git clone -q https://github.com/tweepy/tweepy.git /private/var/folders/l0/t287xkbn4rx1nmtt791sqm280000gn/T/pip-req-build-39hxc7_q\n",
      "Requirement already satisfied: requests<3,>=2.11.1 in /Users/lupita/opt/anaconda3/envs/PythonData/lib/python3.7/site-packages (from tweepy==4.2.0) (2.25.1)\n",
      "Requirement already satisfied: requests_oauthlib<2,>=1.0.0 in /Users/lupita/opt/anaconda3/envs/PythonData/lib/python3.7/site-packages (from tweepy==4.2.0) (1.3.0)\n",
      "Requirement already satisfied: urllib3<1.27,>=1.21.1 in /Users/lupita/opt/anaconda3/envs/PythonData/lib/python3.7/site-packages (from requests<3,>=2.11.1->tweepy==4.2.0) (1.26.4)\n",
      "Requirement already satisfied: chardet<5,>=3.0.2 in /Users/lupita/opt/anaconda3/envs/PythonData/lib/python3.7/site-packages (from requests<3,>=2.11.1->tweepy==4.2.0) (4.0.0)\n",
      "Requirement already satisfied: certifi>=2017.4.17 in /Users/lupita/opt/anaconda3/envs/PythonData/lib/python3.7/site-packages (from requests<3,>=2.11.1->tweepy==4.2.0) (2020.12.5)\n",
      "Requirement already satisfied: idna<3,>=2.5 in /Users/lupita/opt/anaconda3/envs/PythonData/lib/python3.7/site-packages (from requests<3,>=2.11.1->tweepy==4.2.0) (2.10)\n",
      "Requirement already satisfied: oauthlib>=3.0.0 in /Users/lupita/opt/anaconda3/envs/PythonData/lib/python3.7/site-packages (from requests_oauthlib<2,>=1.0.0->tweepy==4.2.0) (3.1.1)\n",
      "Note: you may need to restart the kernel to use updated packages.\n"
     ]
    }
   ],
   "source": [
    "pip install git+https://github.com/tweepy/tweepy.git"
   ]
  },
  {
   "cell_type": "code",
   "execution_count": null,
   "id": "bf1aacfa",
   "metadata": {},
   "outputs": [],
   "source": []
  },
  {
   "cell_type": "code",
   "execution_count": 17,
   "id": "858ca5f1",
   "metadata": {},
   "outputs": [],
   "source": [
    "import tweepy\n",
    "import pandas as pd"
   ]
  },
  {
   "cell_type": "code",
   "execution_count": 18,
   "id": "60e84f90",
   "metadata": {},
   "outputs": [],
   "source": [
    "%run ./keys.ipynb"
   ]
  },
  {
   "cell_type": "code",
   "execution_count": 19,
   "id": "389b1a1c",
   "metadata": {},
   "outputs": [],
   "source": [
    "auth = tweepy.OAuthHandler(consumer_key, consumer_secret)\n",
    "auth.set_access_token(access_token,access_token_secret)\n",
    "api = tweepy.API(auth)"
   ]
  },
  {
   "cell_type": "code",
   "execution_count": 26,
   "id": "bd8d477d",
   "metadata": {},
   "outputs": [],
   "source": [
    "# Practice pull of user tweet ___________________________\n",
    "cursor = tweepy.Cursor(api.user_timeline, id=\"elonmusk\",tweet_mode=\"extended\").items(1)"
   ]
  },
  {
   "cell_type": "code",
   "execution_count": 27,
   "id": "086b0396",
   "metadata": {},
   "outputs": [
    {
     "name": "stderr",
     "output_type": "stream",
     "text": [
      "Unexpected parameter: id\n"
     ]
    },
    {
     "name": "stdout",
     "output_type": "stream",
     "text": [
      "@BillyM2k ☺️\n"
     ]
    }
   ],
   "source": [
    "# Need to iterate over cursor to retrieve specific data (JSON format - only specified item)\n",
    "for i in cursor:\n",
    "    print(i.full_text)"
   ]
  },
  {
   "cell_type": "code",
   "execution_count": 29,
   "id": "0d846f6c",
   "metadata": {},
   "outputs": [],
   "source": [
    "# Practice pull of keywords _____________________________ .items(1) = 1 tweet\n",
    "cursor = tweepy.Cursor(api.search_tweets, q=\"Tesla\",tweet_mode=\"extended\").items(1)"
   ]
  },
  {
   "cell_type": "code",
   "execution_count": 30,
   "id": "b0f66bcb",
   "metadata": {},
   "outputs": [
    {
     "name": "stdout",
     "output_type": "stream",
     "text": [
      "@RiquinhodaFL Rico, e a tesla?\n"
     ]
    }
   ],
   "source": [
    "for i in cursor:\n",
    "    print(i.full_text)"
   ]
  },
  {
   "cell_type": "code",
   "execution_count": null,
   "id": "b4065e69",
   "metadata": {},
   "outputs": [],
   "source": [
    "# Practice pull of keywords with datetime specified\n"
   ]
  }
 ],
 "metadata": {
  "kernelspec": {
   "display_name": "Python 3",
   "language": "python",
   "name": "python3"
  },
  "language_info": {
   "codemirror_mode": {
    "name": "ipython",
    "version": 3
   },
   "file_extension": ".py",
   "mimetype": "text/x-python",
   "name": "python",
   "nbconvert_exporter": "python",
   "pygments_lexer": "ipython3",
   "version": "3.7.10"
  }
 },
 "nbformat": 4,
 "nbformat_minor": 5
}
